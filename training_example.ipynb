{
  "cells": [
    {
      "cell_type": "code",
      "execution_count": 1,
      "metadata": {
        "id": "8oX6_XUV4n3q"
      },
      "outputs": [],
      "source": [
        "import pandas as pd\n",
        "import numpy as np\n",
        "import matplotlib.pyplot as plt\n",
        "%matplotlib inline\n",
        "\n",
        "# Dataset\n",
        "from sklearn.datasets import load_digits\n",
        "\n",
        "# PyTorch\n",
        "import torch\n",
        "import torchvision\n",
        "import torchvision.transforms as transforms\n",
        "\n",
        "import torch.nn as nn\n",
        "import torch.nn.functional as F\n",
        "import torch.optim as optim\n",
        "\n",
        "import training_logger"
      ]
    },
    {
      "cell_type": "code",
      "execution_count": 2,
      "metadata": {
        "id": "1aeTDhpQ4uCj"
      },
      "outputs": [],
      "source": [
        "transform = transforms.Compose(\n",
        "    [transforms.ToTensor(),\n",
        "     transforms.Normalize((0.5, ), (0.5, ))])\n",
        "\n",
        "trainset = torchvision.datasets.MNIST(root='~/data',\n",
        "                                        train=True,\n",
        "                                        download=True,\n",
        "                                        transform=transform)\n",
        "\n",
        "testset = torchvision.datasets.MNIST(root='~/data',\n",
        "                                        train=False,\n",
        "                                        download=True,\n",
        "                                        transform=transform)"
      ]
    },
    {
      "cell_type": "code",
      "execution_count": 3,
      "metadata": {
        "id": "fY7GRCGB4yQi"
      },
      "outputs": [],
      "source": [
        "trainloader = torch.utils.data.DataLoader(trainset,\n",
        "                                          batch_size=100,\n",
        "                                          shuffle=True,\n",
        "                                          num_workers=2)"
      ]
    },
    {
      "cell_type": "code",
      "execution_count": 4,
      "metadata": {
        "id": "_wfXkwwp4zqL"
      },
      "outputs": [],
      "source": [
        "testloader = torch.utils.data.DataLoader(testset,\n",
        "                                         batch_size=100,\n",
        "                                         shuffle=False,\n",
        "                                         num_workers=2)"
      ]
    },
    {
      "cell_type": "code",
      "execution_count": 5,
      "metadata": {
        "id": "Gm4QzbT_41jH"
      },
      "outputs": [],
      "source": [
        "class Net(nn.Module):\n",
        "    def __init__(self):\n",
        "        super(Net, self).__init__()\n",
        "        self.conv1 = nn.Conv2d(1, 32, 3)  # 28x28x32 -> 26x26x32\n",
        "        self.conv2 = nn.Conv2d(32, 64, 3)  # 26x26x64 -> 24x24x64\n",
        "        self.pool = nn.MaxPool2d(2, 2)  # 24x24x64 -> 12x12x64\n",
        "        self.dropout1 = nn.Dropout2d()\n",
        "        self.fc1 = nn.Linear(12 * 12 * 64, 128)\n",
        "        self.dropout2 = nn.Dropout2d()\n",
        "        self.fc2 = nn.Linear(128, 10)\n",
        "\n",
        "    def forward(self, x):\n",
        "        x = F.relu(self.conv1(x))\n",
        "        x = self.pool(F.relu(self.conv2(x)))\n",
        "        x = self.dropout1(x)\n",
        "        x = x.view(-1, 12 * 12 * 64)\n",
        "        x = F.relu(self.fc1(x))\n",
        "        x = self.dropout2(x)\n",
        "        x = self.fc2(x)\n",
        "        return x"
      ]
    },
    {
      "cell_type": "code",
      "execution_count": 6,
      "metadata": {
        "colab": {
          "base_uri": "https://localhost:8080/"
        },
        "id": "fOo6FO7550QB",
        "outputId": "a8feb8fc-8e60-4d78-d4b3-0b9b6605b0e0"
      },
      "outputs": [
        {
          "output_type": "execute_result",
          "data": {
            "text/plain": [
              "True"
            ]
          },
          "metadata": {},
          "execution_count": 6
        }
      ],
      "source": [
        "torch.cuda.is_available()"
      ]
    },
    {
      "cell_type": "code",
      "execution_count": 7,
      "metadata": {
        "id": "Y5EiAZyy53Qe"
      },
      "outputs": [],
      "source": [
        "device = torch.device(\"cuda:0\")"
      ]
    },
    {
      "cell_type": "code",
      "execution_count": 8,
      "metadata": {
        "id": "W4PxJ6Hf43JZ"
      },
      "outputs": [],
      "source": [
        "model = Net()\n",
        "model.to(device)\n",
        "criterion = nn.CrossEntropyLoss()\n",
        "optimizer = optim.SGD(model.parameters(), lr=0.001, momentum=0.9)"
      ]
    },
    {
      "cell_type": "code",
      "execution_count": 9,
      "metadata": {
        "colab": {
          "base_uri": "https://localhost:8080/"
        },
        "id": "G8KdK6Bl44wJ",
        "outputId": "1d48492b-5da6-429e-e8f5-da61a5856fb3"
      },
      "outputs": [
        {
          "output_type": "stream",
          "name": "stdout",
          "text": [
            "Train created\n"
          ]
        },
        {
          "output_type": "stream",
          "name": "stderr",
          "text": [
            "/usr/local/lib/python3.10/dist-packages/torch/nn/functional.py:1345: UserWarning: dropout2d: Received a 2-D input to dropout2d, which is deprecated and will result in an error in a future release. To retain the behavior and silence this warning, please use dropout instead. Note that dropout2d exists to provide channel-wise dropout on inputs with 2 spatial dimensions, a channel dimension, and an optional batch dimension (i.e. 3D or 4D inputs).\n",
            "  warnings.warn(warn_msg)\n"
          ]
        },
        {
          "output_type": "stream",
          "name": "stdout",
          "text": [
            "[1, 100] loss: 2.2\n",
            "[1, 200] loss: 1.6\n",
            "[1, 300] loss: 0.83\n",
            "[1, 400] loss: 0.62\n",
            "[1, 500] loss: 0.53\n",
            "[1, 600] loss: 0.48\n",
            "Logs have added to database\n",
            "[2, 100] loss: 0.43\n",
            "[2, 200] loss: 0.42\n",
            "[2, 300] loss: 0.39\n",
            "[2, 400] loss: 0.36\n",
            "[2, 500] loss: 0.35\n",
            "[2, 600] loss: 0.33\n",
            "Logs have added to database\n",
            "[3, 100] loss: 0.32\n",
            "[3, 200] loss: 0.3\n",
            "[3, 300] loss: 0.3\n",
            "[3, 400] loss: 0.27\n",
            "[3, 500] loss: 0.26\n",
            "[3, 600] loss: 0.27\n",
            "Logs have added to database\n",
            "[4, 100] loss: 0.25\n",
            "[4, 200] loss: 0.26\n",
            "[4, 300] loss: 0.24\n",
            "[4, 400] loss: 0.22\n",
            "[4, 500] loss: 0.23\n",
            "[4, 600] loss: 0.23\n",
            "Logs have added to database\n",
            "[5, 100] loss: 0.21\n",
            "[5, 200] loss: 0.21\n",
            "[5, 300] loss: 0.2\n",
            "[5, 400] loss: 0.2\n",
            "[5, 500] loss: 0.21\n",
            "[5, 600] loss: 0.19\n",
            "Logs have added to database\n",
            "[6, 100] loss: 0.19\n",
            "[6, 200] loss: 0.19\n",
            "[6, 300] loss: 0.19\n",
            "[6, 400] loss: 0.18\n",
            "[6, 500] loss: 0.16\n",
            "[6, 600] loss: 0.17\n",
            "Logs have added to database\n",
            "[7, 100] loss: 0.16\n",
            "[7, 200] loss: 0.16\n",
            "[7, 300] loss: 0.16\n",
            "[7, 400] loss: 0.16\n",
            "[7, 500] loss: 0.18\n",
            "[7, 600] loss: 0.15\n",
            "Logs have added to database\n",
            "[8, 100] loss: 0.16\n",
            "[8, 200] loss: 0.15\n",
            "[8, 300] loss: 0.14\n",
            "[8, 400] loss: 0.14\n",
            "[8, 500] loss: 0.14\n",
            "[8, 600] loss: 0.15\n",
            "Logs have added to database\n",
            "[9, 100] loss: 0.14\n",
            "[9, 200] loss: 0.12\n",
            "[9, 300] loss: 0.14\n",
            "[9, 400] loss: 0.13\n",
            "[9, 500] loss: 0.14\n",
            "[9, 600] loss: 0.14\n",
            "Logs have added to database\n",
            "[10, 100] loss: 0.13\n",
            "[10, 200] loss: 0.12\n",
            "[10, 300] loss: 0.12\n",
            "[10, 400] loss: 0.13\n",
            "[10, 500] loss: 0.12\n",
            "[10, 600] loss: 0.13\n",
            "Logs have added to database\n",
            "Train ended\n",
            "Finished Training\n"
          ]
        }
      ],
      "source": [
        "epochs = 10\n",
        "logger = training_logger.Train(\"b9d622b8-6ee9-46f1-a360-ea4fbf6cb8c2\")\n",
        "logger.create_train()\n",
        "for epoch in range(epochs):\n",
        "    running_loss = 0.0\n",
        "    for i, (inputs, labels) in enumerate(trainloader, 0):\n",
        "        # zero the parameter gradients\n",
        "        optimizer.zero_grad()\n",
        "\n",
        "        # forward + backward + optimize\n",
        "        outputs = model(inputs.to(device))\n",
        "        loss = criterion(outputs.to(device), labels.to(device))\n",
        "        loss.backward()\n",
        "        optimizer.step()\n",
        "\n",
        "        # print statistics\n",
        "        running_loss += loss.item()\n",
        "        if i % 100 == 99:\n",
        "            print(f'[{epoch + 1}, {i+1}] loss: {running_loss / 100:.2}')\n",
        "            running_loss = 0.0\n",
        "    logger.send_metrics(epoch + 1, \"loss\", running_loss)\n",
        "logger.end_train()\n",
        "\n",
        "print('Finished Training')"
      ]
    },
    {
      "cell_type": "code",
      "execution_count": 9,
      "metadata": {
        "id": "2Y4GYyoFFRKz"
      },
      "outputs": [],
      "source": []
    }
  ],
  "metadata": {
    "accelerator": "GPU",
    "colab": {
      "gpuType": "T4",
      "provenance": []
    },
    "kernelspec": {
      "display_name": "Python 3",
      "language": "python",
      "name": "python3"
    },
    "language_info": {
      "codemirror_mode": {
        "name": "ipython",
        "version": 3
      },
      "file_extension": ".py",
      "mimetype": "text/x-python",
      "name": "python",
      "nbconvert_exporter": "python",
      "pygments_lexer": "ipython3",
      "version": "3.7.3"
    }
  },
  "nbformat": 4,
  "nbformat_minor": 0
}